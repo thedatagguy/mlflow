{
 "cells": [
  {
   "cell_type": "code",
   "execution_count": 14,
   "id": "2f0dac46",
   "metadata": {},
   "outputs": [],
   "source": [
    "import mlflow"
   ]
  },
  {
   "cell_type": "code",
   "execution_count": 15,
   "id": "b6ebc68e",
   "metadata": {},
   "outputs": [],
   "source": [
    "mlflow.set_tracking_uri(\"http://127.0.0.1:5000\")"
   ]
  },
  {
   "cell_type": "code",
   "execution_count": 16,
   "id": "27527887",
   "metadata": {},
   "outputs": [
    {
     "name": "stdout",
     "output_type": "stream",
     "text": [
      "🏃 View run calm-rat-427 at: http://127.0.0.1:5000/#/experiments/339588559100228714/runs/b09ffd4a58434606a38e403ed596ba65\n",
      "🧪 View experiment at: http://127.0.0.1:5000/#/experiments/339588559100228714\n"
     ]
    }
   ],
   "source": [
    "mlflow.set_experiment(\"checking local host conncection\")\n",
    "\n",
    "with mlflow.start_run():\n",
    "    mlflow.log_metric(\"test\",1)\n",
    "    mlflow.log_metric(\"train\",2)"
   ]
  },
  {
   "cell_type": "code",
   "execution_count": 17,
   "id": "14f2b5a8",
   "metadata": {},
   "outputs": [
    {
     "name": "stdout",
     "output_type": "stream",
     "text": [
      "🏃 View run skillful-hawk-972 at: http://127.0.0.1:5000/#/experiments/339588559100228714/runs/8f5378222bc543999848e1153700d87e\n",
      "🧪 View experiment at: http://127.0.0.1:5000/#/experiments/339588559100228714\n"
     ]
    }
   ],
   "source": [
    "\n",
    "with mlflow.start_run():\n",
    "    mlflow.log_metric(\"test2\",1)\n",
    "    mlflow.log_metric(\"train2\",2)"
   ]
  },
  {
   "cell_type": "code",
   "execution_count": null,
   "id": "1cbb180b",
   "metadata": {},
   "outputs": [],
   "source": []
  }
 ],
 "metadata": {
  "kernelspec": {
   "display_name": "mlflow",
   "language": "python",
   "name": "python3"
  },
  "language_info": {
   "codemirror_mode": {
    "name": "ipython",
    "version": 3
   },
   "file_extension": ".py",
   "mimetype": "text/x-python",
   "name": "python",
   "nbconvert_exporter": "python",
   "pygments_lexer": "ipython3",
   "version": "3.13.5"
  }
 },
 "nbformat": 4,
 "nbformat_minor": 5
}
